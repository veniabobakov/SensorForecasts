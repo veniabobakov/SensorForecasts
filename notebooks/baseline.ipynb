{
 "cells": [
  {
   "cell_type": "code",
   "id": "initial_id",
   "metadata": {
    "collapsed": true,
    "ExecuteTime": {
     "end_time": "2024-06-14T12:31:40.552585Z",
     "start_time": "2024-06-14T12:31:40.542878Z"
    }
   },
   "source": [
    "import numpy as np\n",
    "import pandas as pd\n",
    "import torch\n",
    "import torch.nn as nn\n",
    "import torch.optim as optim\n",
    "from sklearn.preprocessing import MinMaxScaler\n",
    "from torch.utils.data import DataLoader, Dataset\n",
    "import matplotlib.pyplot as plt\n",
    "from utils.utils import *\n",
    "\n",
    "# Для воспроизводимости\n",
    "np.random.seed(42)\n",
    "torch.manual_seed(42)"
   ],
   "outputs": [
    {
     "data": {
      "text/plain": [
       "<torch._C.Generator at 0x12a43c6f0>"
      ]
     },
     "execution_count": 25,
     "metadata": {},
     "output_type": "execute_result"
    }
   ],
   "execution_count": 25
  },
  {
   "metadata": {
    "ExecuteTime": {
     "end_time": "2024-06-14T12:38:10.475147Z",
     "start_time": "2024-06-14T12:38:10.446763Z"
    }
   },
   "cell_type": "code",
   "source": [
    "df = pd.read_csv(get_project_root() / 'data/Belyy2017_GHG_zscore.csv')\n",
    "\n",
    "# Предполагая, что в данных есть столбец 'Date' и целевой столбец 'Value'\n",
    "df['Date'] = pd.to_datetime(df['Date'])\n",
    "df.set_index('Date', inplace=True)\n",
    "\n",
    "# Нормализация данных\n",
    "scaler = MinMaxScaler()\n",
    "scaled_data = scaler.fit_transform(df['up_CO'].values.reshape(-1, 1))\n",
    "\n",
    "# Разделение данных\n",
    "train_size = int(len(df['up_CO'].values.reshape(-1, 1)) * 0.8)\n",
    "train_data = scaled_data[:train_size]\n",
    "test_data = scaled_data[train_size:]\n",
    "\n",
    "# Создание последовательностей\n",
    "class TimeSeriesDataset(Dataset):\n",
    "    def __init__(self, data, seq_length):\n",
    "        self.data = data\n",
    "        self.seq_length = seq_length\n",
    "\n",
    "    def __len__(self):\n",
    "        return len(self.data) - self.seq_length\n",
    "\n",
    "    def __getitem__(self, index):\n",
    "        x = self.data[index:index + self.seq_length]\n",
    "        y = self.data[index + self.seq_length]\n",
    "        return torch.FloatTensor(x), torch.FloatTensor(y)\n",
    "\n",
    "seq_length = 50\n",
    "train_dataset = TimeSeriesDataset(train_data, seq_length)\n",
    "test_dataset = TimeSeriesDataset(test_data, seq_length)\n",
    "\n",
    "train_loader = DataLoader(train_dataset, batch_size=32, shuffle=True)\n",
    "test_loader = DataLoader(test_dataset, batch_size=32, shuffle=False)"
   ],
   "id": "34910e4c530f9659",
   "outputs": [],
   "execution_count": 35
  },
  {
   "metadata": {
    "ExecuteTime": {
     "end_time": "2024-06-14T12:38:11.249049Z",
     "start_time": "2024-06-14T12:38:11.234758Z"
    }
   },
   "cell_type": "code",
   "source": [
    "class LSTM(nn.Module):\n",
    "    def __init__(self, input_size, hidden_layer_size, output_size):\n",
    "        super(LSTM, self).__init__()\n",
    "        self.hidden_layer_size = hidden_layer_size\n",
    "        self.lstm1 = nn.LSTM(input_size, hidden_layer_size, batch_first=True)\n",
    "        self.lstm2 = nn.LSTM(hidden_layer_size, hidden_layer_size, batch_first=True)\n",
    "        self.linear1 = nn.Linear(hidden_layer_size, 100)\n",
    "        self.linear2 = nn.Linear(100, output_size)\n",
    "        self.hidden_cell = (torch.zeros(1, 1, self.hidden_layer_size),\n",
    "                            torch.zeros(1, 1, self.hidden_layer_size))\n",
    "\n",
    "    def forward(self, input_seq):\n",
    "        lstm_out, self.hidden_cell = self.lstm1(input_seq)\n",
    "        lstm_out, self.hidden_cell = self.lstm2(lstm_out)\n",
    "        linear1_out = self.linear1(lstm_out[:, -1])\n",
    "        predictions = self.linear2(linear1_out)\n",
    "        return predictions\n",
    "\n",
    "input_size = 1  # Одномерный временной ряд\n",
    "hidden_layer_size = 100\n",
    "output_size = 1\n",
    "\n",
    "model = LSTM(input_size, hidden_layer_size, output_size)\n",
    "loss_function = nn.MSELoss()\n",
    "optimizer = optim.Adam(model.parameters(), lr=0.001)"
   ],
   "id": "80385d8dbd1ca021",
   "outputs": [],
   "execution_count": 36
  },
  {
   "metadata": {
    "ExecuteTime": {
     "end_time": "2024-06-14T12:41:59.340846Z",
     "start_time": "2024-06-14T12:39:25.327470Z"
    }
   },
   "cell_type": "code",
   "source": [
    "epochs = 100\n",
    "\n",
    "for epoch in range(epochs):\n",
    "    for seq, labels in train_loader:\n",
    "        optimizer.zero_grad()\n",
    "        y_pred = model(seq)\n",
    "        single_loss = loss_function(y_pred, labels)\n",
    "        single_loss.backward()\n",
    "        optimizer.step()\n",
    "    \n",
    "    print(f'Epoch {epoch+1} loss: {single_loss.item()}')"
   ],
   "id": "f05ecf0911ce7ddd",
   "outputs": [
    {
     "name": "stdout",
     "output_type": "stream",
     "text": [
      "Epoch 1 loss: 0.00036551544326357543\n",
      "Epoch 2 loss: 0.0005335303721949458\n",
      "Epoch 3 loss: 0.0003739201929420233\n",
      "Epoch 4 loss: 0.001060101785697043\n",
      "Epoch 5 loss: 0.00030332570895552635\n",
      "Epoch 6 loss: 0.00010817969450727105\n",
      "Epoch 7 loss: 0.00018059779540635645\n",
      "Epoch 8 loss: 0.0008975720847956836\n",
      "Epoch 9 loss: 0.0006616165628656745\n",
      "Epoch 10 loss: 0.00044243349111638963\n",
      "Epoch 11 loss: 0.00010977348574670032\n",
      "Epoch 12 loss: 0.001272414461709559\n",
      "Epoch 13 loss: 0.00043945651850663126\n",
      "Epoch 14 loss: 0.0009181215427815914\n",
      "Epoch 15 loss: 0.007787360344082117\n",
      "Epoch 16 loss: 6.293800834100693e-05\n",
      "Epoch 17 loss: 0.002792739775031805\n",
      "Epoch 18 loss: 0.0007311731460504234\n",
      "Epoch 19 loss: 8.798181806923822e-05\n",
      "Epoch 20 loss: 0.0006816095556132495\n",
      "Epoch 21 loss: 0.0040482403710484505\n",
      "Epoch 22 loss: 0.00015676100156269968\n",
      "Epoch 23 loss: 0.0006152733112685382\n",
      "Epoch 24 loss: 0.00046638809726573527\n",
      "Epoch 25 loss: 0.0003837441618088633\n",
      "Epoch 26 loss: 8.119588164845482e-05\n",
      "Epoch 27 loss: 0.0004077415505889803\n",
      "Epoch 28 loss: 0.00018257589545100927\n",
      "Epoch 29 loss: 0.00010971748270094395\n",
      "Epoch 30 loss: 0.0011552214855328202\n",
      "Epoch 31 loss: 0.001105678966268897\n",
      "Epoch 32 loss: 7.443339563906193e-05\n",
      "Epoch 33 loss: 0.00428787712007761\n",
      "Epoch 34 loss: 8.261740731541067e-05\n",
      "Epoch 35 loss: 0.000347142486134544\n",
      "Epoch 36 loss: 0.00034634346957318485\n",
      "Epoch 37 loss: 8.980566781247035e-05\n",
      "Epoch 38 loss: 0.02775307185947895\n",
      "Epoch 39 loss: 0.00020476200734265149\n",
      "Epoch 40 loss: 0.0002522034046705812\n",
      "Epoch 41 loss: 0.001190188922919333\n",
      "Epoch 42 loss: 0.0018213695148006082\n",
      "Epoch 43 loss: 8.480420365231112e-05\n",
      "Epoch 44 loss: 7.531786832259968e-05\n",
      "Epoch 45 loss: 0.0009582292404957116\n",
      "Epoch 46 loss: 0.0008496787631884217\n",
      "Epoch 47 loss: 0.00015595620789099485\n",
      "Epoch 48 loss: 0.00038910849252715707\n",
      "Epoch 49 loss: 0.00010553876199992374\n",
      "Epoch 50 loss: 3.27267189277336e-05\n",
      "Epoch 51 loss: 6.095716162235476e-05\n",
      "Epoch 52 loss: 0.0004340621526353061\n",
      "Epoch 53 loss: 0.00012588701792992651\n",
      "Epoch 54 loss: 0.0005693204002454877\n",
      "Epoch 55 loss: 0.0003832625225186348\n",
      "Epoch 56 loss: 0.0009405864402651787\n",
      "Epoch 57 loss: 0.00043423869647085667\n",
      "Epoch 58 loss: 0.00022312664077617228\n",
      "Epoch 59 loss: 9.732980106491596e-05\n",
      "Epoch 60 loss: 0.0013505012029781938\n",
      "Epoch 61 loss: 0.0007270812056958675\n",
      "Epoch 62 loss: 0.0001177613012259826\n",
      "Epoch 63 loss: 0.0012779689859598875\n",
      "Epoch 64 loss: 0.0006001266883686185\n",
      "Epoch 65 loss: 0.00024278224736917764\n",
      "Epoch 66 loss: 0.00013397427392192185\n",
      "Epoch 67 loss: 0.0006680756923742592\n",
      "Epoch 68 loss: 0.000351773138390854\n",
      "Epoch 69 loss: 2.4841292542987503e-05\n",
      "Epoch 70 loss: 0.0008414284093305469\n",
      "Epoch 71 loss: 0.0004916330799460411\n",
      "Epoch 72 loss: 0.00018900982104241848\n",
      "Epoch 73 loss: 0.00031145158573053777\n",
      "Epoch 74 loss: 0.0004995079361833632\n",
      "Epoch 75 loss: 0.0002908869937527925\n",
      "Epoch 76 loss: 0.0002123418089468032\n",
      "Epoch 77 loss: 0.0002060822007479146\n",
      "Epoch 78 loss: 0.0002920938713941723\n",
      "Epoch 79 loss: 7.179791282396764e-05\n",
      "Epoch 80 loss: 0.00014509493485093117\n",
      "Epoch 81 loss: 0.0012845260789617896\n",
      "Epoch 82 loss: 0.0008399923099204898\n",
      "Epoch 83 loss: 0.0007560538360849023\n",
      "Epoch 84 loss: 9.716146450955421e-05\n",
      "Epoch 85 loss: 0.0004814069252461195\n",
      "Epoch 86 loss: 0.0002914518699981272\n",
      "Epoch 87 loss: 0.0020339894108474255\n",
      "Epoch 88 loss: 0.00012000692368019372\n",
      "Epoch 89 loss: 9.215717727784067e-05\n",
      "Epoch 90 loss: 0.00011399838695069775\n",
      "Epoch 91 loss: 0.00402236869558692\n",
      "Epoch 92 loss: 0.011356069706380367\n",
      "Epoch 93 loss: 0.0009786029113456607\n",
      "Epoch 94 loss: 0.00013688359467778355\n",
      "Epoch 95 loss: 0.0007566697313450277\n",
      "Epoch 96 loss: 0.0003149299300275743\n",
      "Epoch 97 loss: 2.699557808227837e-05\n",
      "Epoch 98 loss: 0.00039781653322279453\n",
      "Epoch 99 loss: 0.0001856677990872413\n",
      "Epoch 100 loss: 0.00010636026127031073\n"
     ]
    }
   ],
   "execution_count": 39
  },
  {
   "metadata": {
    "ExecuteTime": {
     "end_time": "2024-06-14T12:41:59.800051Z",
     "start_time": "2024-06-14T12:41:59.344037Z"
    }
   },
   "cell_type": "code",
   "source": [
    "def mean_absolute_percentage_error(y_true, y_pred): \n",
    "    y_true, y_pred = np.array(y_true), np.array(y_pred)\n",
    "    return np.mean(np.abs((y_true - y_pred) / y_true)) * 100\n",
    "\n",
    "def mean_absolute_error(y_true, y_pred):\n",
    "    y_true, y_pred = np.array(y_true), np.array(y_pred)\n",
    "    return np.mean(np.abs(y_true - y_pred))\n",
    "\n",
    "model.eval()\n",
    "\n",
    "test_predictions = []\n",
    "test_labels = []\n",
    "\n",
    "with torch.no_grad():\n",
    "    for seq, labels in test_loader:\n",
    "        y_pred = model(seq)\n",
    "        test_predictions.extend(y_pred.numpy())\n",
    "        test_labels.extend(labels.numpy())\n",
    "\n",
    "test_predictions = scaler.inverse_transform(test_predictions)\n",
    "test_labels = scaler.inverse_transform(test_labels)\n",
    "\n",
    "mape = mean_absolute_percentage_error(test_labels, test_predictions)\n",
    "mae = mean_absolute_error(test_labels, test_predictions)\n",
    "\n",
    "print(f'MAPE: {mape}')\n",
    "print(f'MAE: {mae}')\n",
    "\n",
    "# Построение графиков\n",
    "plt.plot(test_labels, label='Actual')\n",
    "plt.plot(test_predictions, label='Predicted')\n",
    "plt.legend()\n",
    "plt.show()"
   ],
   "id": "2c9e5868203589e3",
   "outputs": [
    {
     "name": "stdout",
     "output_type": "stream",
     "text": [
      "MAPE: 44.675701104923\n",
      "MAE: 0.23526587453694536\n"
     ]
    },
    {
     "data": {
      "text/plain": [
       "<Figure size 640x480 with 1 Axes>"
      ],
      "image/png": "[encoded data removed]"
     },
     "metadata": {},
     "output_type": "display_data"
    }
   ],
   "execution_count": 40
  },
  {
   "metadata": {},
   "cell_type": "code",
   "outputs": [],
   "execution_count": null,
   "source": "",
   "id": "27e225689fa0f7af"
  }
 ],
 "metadata": {
  "kernelspec": {
   "display_name": "Python 3",
   "language": "python",
   "name": "python3"
  },
  "language_info": {
   "codemirror_mode": {
    "name": "ipython",
    "version": 2
   },
   "file_extension": ".py",
   "mimetype": "text/x-python",
   "name": "python",
   "nbconvert_exporter": "python",
   "pygments_lexer": "ipython2",
   "version": "2.7.6"
  }
 },
 "nbformat": 4,
 "nbformat_minor": 5
}
