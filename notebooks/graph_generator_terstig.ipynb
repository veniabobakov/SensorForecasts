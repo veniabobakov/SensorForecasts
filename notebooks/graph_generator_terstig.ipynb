{
 "cells": [
  {
   "cell_type": "code",
   "id": "initial_id",
   "metadata": {
    "collapsed": true,
    "ExecuteTime": {
     "end_time": "2024-08-22T07:48:42.287023Z",
     "start_time": "2024-08-22T07:48:39.027686Z"
    }
   },
   "source": [
    "import torch\n",
    "from models.GCN_LSTM import GCN_LSTM"
   ],
   "outputs": [],
   "execution_count": 1
  },
  {
   "metadata": {
    "ExecuteTime": {
     "end_time": "2024-08-22T07:48:42.983815Z",
     "start_time": "2024-08-22T07:48:42.870118Z"
    }
   },
   "cell_type": "code",
   "source": [
    "# Пример данных для одного окна временного ряда (размер окна: 96 шагов, 9 признаков)\n",
    "x = torch.randn(96, 9)\n",
    "\n",
    "# Пример простого линейного графа для временных шагов\n",
    "edge_index = torch.tensor([\n",
    "    [i for i in range(95)],   # узлы-источники\n",
    "    [i+1 for i in range(95)]  # узлы-приемники\n",
    "], dtype=torch.long)\n",
    "\n",
    "# Весовые коэффициенты ребер\n",
    "edge_weight = torch.ones(95)\n",
    "\n",
    "# Создание модели с горизонтом предсказаний = 3 (предсказываем 9 фичей на 3 следующих шага)\n",
    "model = GCN_LSTM(in_channels=9, hidden_channels=16, num_gcn_layers=2, num_rnn_layers=1, num_features=9, horizon=1)\n",
    "\n",
    "# Подача данных в модель\n",
    "output = model(x, edge_index, edge_weight)\n",
    "\n",
    "print(output.shape)  # Ожидаемый размер выхода: torch.Size([9, 3])\n"
   ],
   "id": "26fc1499a0af304a",
   "outputs": [
    {
     "name": "stdout",
     "output_type": "stream",
     "text": [
      "torch.Size([9, 1])\n"
     ]
    }
   ],
   "execution_count": 2
  },
  {
   "metadata": {},
   "cell_type": "code",
   "outputs": [],
   "execution_count": null,
   "source": "",
   "id": "780a05f4297103f1"
  }
 ],
 "metadata": {
  "kernelspec": {
   "display_name": "Python 3",
   "language": "python",
   "name": "python3"
  },
  "language_info": {
   "codemirror_mode": {
    "name": "ipython",
    "version": 2
   },
   "file_extension": ".py",
   "mimetype": "text/x-python",
   "name": "python",
   "nbconvert_exporter": "python",
   "pygments_lexer": "ipython2",
   "version": "2.7.6"
  }
 },
 "nbformat": 4,
 "nbformat_minor": 5
}
